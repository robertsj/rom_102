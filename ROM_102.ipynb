{
 "cells": [
  {
   "cell_type": "markdown",
   "id": "c4e3f95d-660a-4c26-931f-c380c1945409",
   "metadata": {},
   "source": [
    "# ROM 102 - Practical Considerations"
   ]
  },
  {
   "cell_type": "markdown",
   "id": "aa9c3130-7f75-4778-acf3-2566e9ba95b7",
   "metadata": {},
   "source": [
    "In ROM 101, we learned about reduced order models (**ROM**s), proper orthogonal decomposition (**POD**), and **Galerkin** projection, and we saw the results of some applications of **POD-Galerkin ROM**s.  "
   ]
  },
  {
   "cell_type": "markdown",
   "id": "2e8e7afe-cee1-43bf-92e6-866515047cec",
   "metadata": {},
   "source": [
    "In this lecture, we'll \n",
    "\n",
    "  1. describe transient heat conduction in a nuclear reactor fuel element\n",
    "  2. construct a full-order model (**FOM**) for this application using a finite-difference (**FD**) approximation \n",
    "  3. construct a corresponding POD-Galerkin ROM\n",
    "  4. analyze "
   ]
  },
  {
   "cell_type": "markdown",
   "id": "7f21e568-fb9e-49f4-bcfc-be3675baa176",
   "metadata": {},
   "source": [
    "# Application: Transient Conduction\n",
    "\n",
    "The conduction of heat in solids can be described by\n",
    "\n",
    "$$\n",
    "  \\rho(\\mathbf{r})c_p(\\mathbf{r}, T) \\frac{\\partial T}{\\partial t} \n",
    "    = \\nabla k(\\mathbf{r}, T) \\nabla T(\\mathbf{r}, t) + q'''(\\mathbf{r}, t) \\, .\n",
    "    \\tag{1}\n",
    "$$\n",
    "\n",
    "where $T$ is temperature, $\\rho$ is density, $c_p$ is specific heat, $k$ is thermal conductivity, and $q'''$ is the volumetric heat generation rate."
   ]
  },
  {
   "cell_type": "markdown",
   "id": "78807d5f-1e61-480c-a6e1-2a9fff39de7c",
   "metadata": {},
   "source": [
    "As an example application, consider the conduction of heat in a nuclear reactor fuel element.  A fuel element is typically a long cylinder ($L=3$ m; $D = 0.9$cm) made of ceramic UO$_2$ fuel enclosed in a thin ($\\Delta = 0.1$ cm) metallic sheath called the cladding.  Often, there is a small gap between the fuel and the cladding filled with an inert gas like argon.  Reactions from fission in the fuel leads to local heating, and, given the volumetric fission rate $f(\\mathbf{r}, t)$, the heat generation rate is $q''' = \\kappa f$ where $\\kappa$ is a conversion factor. These fuel elements are most often assembled in relatively tight ($1.2$ cm center-to-center), vertical clusters cooled by forced flow of water through the channels formed by the exterior of the cladding."
   ]
  },
  {
   "cell_type": "markdown",
   "id": "e0fbaf72-e312-459c-aeec-dd85ecd99fa8",
   "metadata": {},
   "source": [
    "For simplicity, we'll consider thin plate fuel elements in which conduction occurs only along the $x$ axis, or\n",
    "\n",
    "$$\n",
    "  \\rho(x)c_p(x, T) \\frac{\\partial T}{\\partial t} \n",
    "    = \\frac{\\partial}{\\partial x} \\left ( k(x, T) \\frac{\\partial}{\\partial x}  T(x, t)\\right ) + q'''(x, t) \\, .\n",
    "    \\tag{2}\n",
    "$$\n",
    "\n",
    "In particular, we'll consider a geometry that looks like\n",
    "\n",
    "```\n",
    "    |           |        |\n",
    "    |   UO2     |  CLAD  |   COOLANT\n",
    "    |           |        |\n",
    "   x=0         x=x_f    x=x_c\n",
    "```\n",
    "\n",
    "and set \n",
    "\n",
    "$$\n",
    "   q''(0) = 0\n",
    "   \\tag{3}\n",
    "$$\n",
    "\n",
    "and \n",
    "\n",
    "$$\n",
    "  q''(x_c) = h(T(x_c)-T_{cool}) \\, .\n",
    "  \\tag{4}\n",
    "$$ \n",
    "\n",
    "In other words, we're treating a single plate element with a fixed, convective condition at the coolant boundary."
   ]
  },
  {
   "cell_type": "markdown",
   "id": "10da6a94-56e8-4ef6-a6ea-7c7ce62f78b5",
   "metadata": {},
   "source": [
    "# Full-Order Model via Finite Differences"
   ]
  },
  {
   "cell_type": "markdown",
   "id": "f5f43088-71d3-443c-8efc-107cd6098eef",
   "metadata": {},
   "source": [
    "To solve (2), we'll use the finite-difference method.  Let the spatial domain be discretized s"
   ]
  },
  {
   "cell_type": "markdown",
   "id": "f1649a85-90c2-44bf-890a-0a8782f298b9",
   "metadata": {},
   "source": []
  },
  {
   "cell_type": "code",
   "execution_count": 40,
   "id": "2aa687a1-6429-496d-85c2-9f4b402ac158",
   "metadata": {},
   "outputs": [],
   "source": [
    "def k_fuel(T_K, B=0.0) : \n",
    "    \"\"\" Calculate fuel conductivity (W/m-K) for temperature T_K (K)\n",
    "    \n",
    "    From J.D. Hales et al. (2013) \"Bison Theory\" (NFIR model)\n",
    "    \"\"\"\n",
    "    from numpy import exp, tanh\n",
    "    # kelvin to celsius\n",
    "    T = T_K - 273.15;\n",
    "    # thermal recovery function\n",
    "    rf = 0.5*(1.0+tanh((T-900.0)/150.0))\n",
    "    # phonon contribution at start of thermal recovery [Hales eq. 8.14]\n",
    "    kps = 1.0/(0.09592+0.00614*B-0.000014*B**2+(0.00025-0.00000181*B)*T)\n",
    "    # phonon contribution at the end of thermal recovery [Hales eq. 8.15]\n",
    "    kpend = 1.0/(0.09592+0.0026*B+(0.00025-0.00000027*B)*T)\n",
    "    # unirradiated material at 95% th. density [Hales eq. 8.17]\n",
    "    kel = 0.0132*exp((0.00188)*T)\n",
    "    k = (1.0-rf)*kps + rf*kpend + kel\n",
    "    return k\n",
    "\n",
    "def k_cladding(T) :\n",
    "    \"\"\" Returns thermal conductivity (W/m) for Zr-4 at temperature T (K)\n",
    "    \n",
    "    Reference: INL/EXT-14-32591, Revision 1\n",
    "    \"\"\"\n",
    "    return 7.511 + 2.088e-2*T - 1.45e-5*T**2 + 7.668e-9*T**3"
   ]
  },
  {
   "cell_type": "code",
   "execution_count": 42,
   "id": "0c681f9a-957d-40b4-9465-fe43dbe19d88",
   "metadata": {},
   "outputs": [
    {
     "data": {
      "text/plain": [
       "16.475288"
      ]
     },
     "execution_count": 42,
     "metadata": {},
     "output_type": "execute_result"
    }
   ],
   "source": [
    "k_cladding(600)"
   ]
  },
  {
   "cell_type": "code",
   "execution_count": null,
   "id": "9599f4cf-4b5f-4773-81ee-9139f4e333b4",
   "metadata": {},
   "outputs": [],
   "source": []
  }
 ],
 "metadata": {
  "kernelspec": {
   "display_name": "Python 3 (ipykernel)",
   "language": "python",
   "name": "python3"
  },
  "language_info": {
   "codemirror_mode": {
    "name": "ipython",
    "version": 3
   },
   "file_extension": ".py",
   "mimetype": "text/x-python",
   "name": "python",
   "nbconvert_exporter": "python",
   "pygments_lexer": "ipython3",
   "version": "3.11.4"
  }
 },
 "nbformat": 4,
 "nbformat_minor": 5
}
