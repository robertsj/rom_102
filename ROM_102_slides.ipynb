{
 "cells": [
  {
   "cell_type": "markdown",
   "id": "ff69b63f",
   "metadata": {
    "slideshow": {
     "slide_type": "slide"
    }
   },
   "source": [
    "# ROM 102"
   ]
  },
  {
   "cell_type": "markdown",
   "id": "422e2396",
   "metadata": {
    "slideshow": {
     "slide_type": "fragment"
    }
   },
   "source": [
    " - Review ROM 101 (i.e., POD-Galerkin ROMs)\n",
    " - Numerical demo using transient conduction\n",
    " - Practical considerations (nonlinearity, etc.)"
   ]
  },
  {
   "cell_type": "markdown",
   "id": "deb3394d",
   "metadata": {
    "slideshow": {
     "slide_type": "slide"
    }
   },
   "source": [
    "# ROM 101 Review"
   ]
  },
  {
   "cell_type": "markdown",
   "id": "3bec9436",
   "metadata": {
    "slideshow": {
     "slide_type": "subslide"
    }
   },
   "source": [
    "## ROM 101 Review: The Application\n",
    "\n",
    "Consider some dynamical system\n",
    "\n",
    "$$\n",
    "  \\frac{\\partial y}{\\partial t} = f(y, t; \\mu) \n",
    "  \\tag{1}\n",
    "$$\n",
    "\n",
    "subject to appropriate initial and boundary conditions, where \n",
    "  \n",
    "  - $y(\\mathbf{r}, t)$ is a scalar unknown (e.g., temperature)\n",
    "  - $f$ is a (possibly) nonlinear function (e.g., $\\nabla k(\\mathbf{r}, y) \\nabla (\\mathbf{r}, t) + q'''(\\mathbf{r}, t)$)\n",
    "  - $\\mu$ represents parameters (e.g., the conductivity $k$)"
   ]
  },
  {
   "cell_type": "markdown",
   "id": "46bb7d6e",
   "metadata": {
    "slideshow": {
     "slide_type": "subslide"
    }
   },
   "source": [
    "## ROM 101 Review: The Full-Order Model\n",
    "\n",
    "Application of a spatial discretization scheme to $y_t = f(y, t; \\mu)$ often leads to a system of the form\n",
    "\n",
    "$$\n",
    "  \\frac{d \\mathbf{y}}{dt} = \\mathbf{A}(t, \\mathbf{y}; \\boldsymbol{\\mu})\\mathbf{y}(t) + \\mathbf{s}(t, \\mathbf{y};\\boldsymbol{\\mu})\n",
    "  \\tag{2}\n",
    "$$\n",
    "\n",
    "where \n",
    "\n",
    "  - $\\mathbf{y} \\in R^n$ is the vector of unknowns at each spatial point\n",
    "  - $\\mathbf{s} \\in R^{n}$ is a source/forcing function/load\n",
    "  - $\\mathbf{A} \\in R^{n\\times n}$ and $\\mathbf{B} \\in R^{n\\times n}$ are matrices that may depend on time and on the unknown."
   ]
  },
  {
   "cell_type": "markdown",
   "id": "74d69554",
   "metadata": {
    "slideshow": {
     "slide_type": "fragment"
    }
   },
   "source": [
    "Equation (2) represents the **full-order model** (FOM)."
   ]
  },
  {
   "cell_type": "markdown",
   "id": "2048a6e0",
   "metadata": {
    "slideshow": {
     "slide_type": "subslide"
    }
   },
   "source": [
    "## ROM 101 Review: The Galerkin ROM\n",
    "\n",
    "Let\n",
    "\n",
    "$$\n",
    "  \\mathbf{y}(t) \\approx \\sum^r_{i=1} \\tilde{y}_i(t) \\boldsymbol{\\psi}_i = \\boldsymbol{\\Psi} \\mathbf{\\tilde{y}}(t)\n",
    "  \\tag{3}\n",
    "$$\n",
    "\n",
    "where \n",
    "\n",
    " - $\\boldsymbol{\\Psi} \\in R^{n\\times r}$ is an orthogonal matrix ($\\boldsymbol{\\Psi}^T \\boldsymbol{\\Psi}=\\mathbf{I}$) whose columns $\\boldsymbol{\\psi}_i$ are basis vectors\n",
    " - $\\mathbf{\\tilde{y}} \\in R^r$ is a vector of coefficients.\n",
    "\n"
   ]
  },
  {
   "cell_type": "markdown",
   "id": "34af2817",
   "metadata": {
    "slideshow": {
     "slide_type": "fragment"
    }
   },
   "source": [
    "**Important**: often $\\boldsymbol{\\Psi}$ is a \"tall-skinny\" matrix (more rows than columns) with $r \\ll n$"
   ]
  },
  {
   "cell_type": "markdown",
   "id": "3a7b6f83",
   "metadata": {
    "slideshow": {
     "slide_type": "subslide"
    }
   },
   "source": [
    "## ROM 101 Review: The Galerkin ROM"
   ]
  },
  {
   "cell_type": "markdown",
   "id": "825ced71",
   "metadata": {
    "slideshow": {
     "slide_type": "fragment"
    }
   },
   "source": [
    "\n",
    "Substitute $\\mathbf{y} = \\boldsymbol{\\Psi}\\mathbf{\\tilde{y}}$ into $\\mathbf{y}' = \\mathbf{A}\\mathbf{y}(t) + \\mathbf{s}(t)$ and multiply the result by $\\boldsymbol{\\Psi}^T$ (the \"projection\") to get\n",
    "\n",
    "$$\n",
    "  \\frac{d\\mathbf{\\tilde{y}}}{dt} = \n",
    "    \\mathbf{\\tilde{A}} \\mathbf{\\tilde{y}}(t) +\n",
    "    \\mathbf{\\tilde{s}}(t) \n",
    "    \\tag{4}\n",
    "$$\n",
    "\n",
    "where \n",
    "\n",
    "  - $\\mathbf{\\tilde{A}} = \\boldsymbol{\\Psi}^T \\mathbf{\\tilde{A}} \\boldsymbol{\\Psi} \\in R^{r\\times r}$\n",
    "  - $\\tilde{s} = \\boldsymbol{\\Psi}^T\\mathbf{s} \\in R^{r}$"
   ]
  },
  {
   "cell_type": "markdown",
   "id": "693dc3e3",
   "metadata": {
    "slideshow": {
     "slide_type": "fragment"
    }
   },
   "source": [
    "**Important**: We've gone from $n$ unknowns to $r \\ll n$ unknowns!"
   ]
  },
  {
   "cell_type": "markdown",
   "id": "81d6d094",
   "metadata": {
    "slideshow": {
     "slide_type": "subslide"
    }
   },
   "source": [
    "## ROM 101 Review: Snapshots and POD"
   ]
  },
  {
   "cell_type": "markdown",
   "id": "a4e1cd02",
   "metadata": {
    "slideshow": {
     "slide_type": "fragment"
    }
   },
   "source": [
    "Suppose we've solved the FOM for $\\mathbf{y}_j$ at several times $t_j$ and defined the \"snapshot\" matrix $\\mathbf{X} = [\\mathbf{y}_0, \\mathbf{y}_1, \\ldots, \\mathbf{y}_m] \\in R^{n \\times m}$, where, usually, $m < n$."
   ]
  },
  {
   "cell_type": "markdown",
   "id": "eda43bac",
   "metadata": {
    "slideshow": {
     "slide_type": "fragment"
    }
   },
   "source": [
    "The **singular value decomposition** (SVD) of these snapshots is\n",
    "\n",
    "$$\n",
    "   \\mathbf{X} = \\mathbf{U}\\boldsymbol{\\Sigma}\\mathbf{V}^T = \\sum_{i=1}^{m} \\sigma_i \\mathbf{u}_i \\mathbf{v}_i^T\n",
    "   \\tag{5}\n",
    "$$\n",
    "\n",
    "where $\\mathbf{U} \\in R^{n\\times n}$ and $\\mathbf{V} \\in R^{m\\times m}$ are orthogonal matrices, and $\\boldsymbol{\\Sigma} \\in R^{n\\times m}$ is a diagonal matrix of (nonnegative) singular values $\\sigma_i$"
   ]
  },
  {
   "cell_type": "markdown",
   "id": "db6a8300",
   "metadata": {
    "slideshow": {
     "slide_type": "subslide"
    }
   },
   "source": [
    "Using just the first $r < m$ columns of $\\mathbf{U}$ to define $\\mathbf{X} \\approx \\mathbf{U}_r \\boldsymbol{\\Sigma}_r \\mathbf{V}^T_r = \\sum^r_{i=1} \\sigma_i \\mathbf{u}_i \\mathbf{v}^T_i$ produces the best possible rank-$r$ approximation to $\\mathbf{X}$ in a least-squares sense."
   ]
  },
  {
   "cell_type": "markdown",
   "id": "f5fc4709",
   "metadata": {
    "slideshow": {
     "slide_type": "fragment"
    }
   },
   "source": [
    "Now we set $\\boxed{\\boldsymbol{\\Psi} = \\mathbf{U}_r}$, and our Galerkin ROM becomes a POD-Galerkin ROM."
   ]
  },
  {
   "cell_type": "markdown",
   "id": "242be156",
   "metadata": {
    "slideshow": {
     "slide_type": "slide"
    }
   },
   "source": [
    "# Intermission: Truncated SVD and Image Compression"
   ]
  },
  {
   "cell_type": "markdown",
   "id": "41a7d9bc",
   "metadata": {
    "slideshow": {
     "slide_type": "fragment"
    }
   },
   "source": [
    "import matplotlib.pyplot as plt\n",
    "import numpy as np\n",
    "import urllib\n",
    "#url = 'https://unsplash.com/photos/f1q4NlVRYSc/download?force=true&w=2400'\n",
    "#urllib.request.urlretrieve(url , 'snake.jpg')\n",
    "A_rgb = plt.imread('snake.jpg')   # 1737x2400 matrix of RGB tuples\n",
    "plt.imshow(A_rgb);"
   ]
  },
  {
   "cell_type": "markdown",
   "id": "49a608e3",
   "metadata": {
    "slideshow": {
     "slide_type": "subslide"
    }
   },
   "source": [
    "## Compute the SVD"
   ]
  },
  {
   "cell_type": "markdown",
   "id": "93fb72c5",
   "metadata": {
    "slideshow": {
     "slide_type": "fragment"
    }
   },
   "source": [
    "A = np.array(A_rgb.reshape((A_rgb.shape[0], A_rgb.shape[1]*A_rgb.shape[2])), dtype='float')\n",
    "U, sigma, V = np.linalg.svd(A, compute_uv=True) # sigma is a 1-d array\n",
    "plt.semilogy(sigma, 'go', mfc='w')\n",
    "plt.semilogy(10, sigma[10], 'rs', 50, sigma[50], 'b^', 100, sigma[100], 'kh', mfc='None', ms=15)\n",
    "plt.xlabel('$i$'); plt.ylabel('$\\sigma_i$'); plt.title(\"Most information in first ~100 singular values.\");"
   ]
  },
  {
   "cell_type": "markdown",
   "id": "c4ab4ac2",
   "metadata": {
    "slideshow": {
     "slide_type": "subslide"
    }
   },
   "source": [
    "## Reconstruct with Truncated SVD"
   ]
  },
  {
   "cell_type": "markdown",
   "id": "6f22b3bb",
   "metadata": {
    "slideshow": {
     "slide_type": "fragment"
    }
   },
   "source": [
    "A_r = []\n",
    "for r in [10, 50, 100]:\n",
    "    Sigma = np.diag(sigma) # make Sigma a diagonal matrix\n",
    "    A_r.append(U[:, :r]@(Sigma[:r, :r]@V[:r, :])) \n",
    "    A_r[-1] = np.array(A_r[-1].reshape((1737, 2400, 3)), dtype='i')\n",
    "    A_r[-1][A_r[-1]<0]=0; A_r[-1][A_r[-1]>255]=255;\n",
    "fig, axes = plt.subplots(nrows=2, ncols=2, figsize=(10,8))\n",
    "axes[0, 0].imshow(A_rgb); axes[0,0].set_title('original'); tmpl = 'n={},  {:.1f}% compression'\n",
    "comp = lambda n: (1-(U.shape[0]+V.shape[0])*n/A.shape[0]/A.shape[1])*100\n",
    "axes[0, 1].imshow(A_r[0]); axes[0,1].set_title(tmpl.format(10, comp(10)))\n",
    "axes[1, 0].imshow(A_r[1]); axes[1,0].set_title(tmpl.format(50, comp(50)))\n",
    "axes[1, 1].imshow(A_r[2]); axes[1,1].set_title(tmpl.format(100, comp(100)));"
   ]
  },
  {
   "cell_type": "markdown",
   "id": "b2e711b5",
   "metadata": {
    "slideshow": {
     "slide_type": "slide"
    }
   },
   "source": [
    "# ROM 102 - Putting It All to Practice"
   ]
  },
  {
   "cell_type": "markdown",
   "id": "3176dc54",
   "metadata": {
    "slideshow": {
     "slide_type": "fragment"
    }
   },
   "source": [
    "## The Application"
   ]
  },
  {
   "cell_type": "markdown",
   "id": "b2e98e9d",
   "metadata": {
    "slideshow": {
     "slide_type": "fragment"
    }
   },
   "source": [
    "**Goal**: Apply POD-Galerkin to the familiar problem of transient heat conduction in plane walls, i.e.,\n",
    "\n",
    "$$\n",
    "  \\rho(x)c_p(x, y) \\frac{\\partial y}{\\partial t} \n",
    "    = \\frac{\\partial}{\\partial x} \\left ( k(x, y) \\frac{\\partial}{\\partial x}  y(x, t)\\right ) + q'''(x, t) \\, ,\n",
    "    \\tag{6}\n",
    "$$\n",
    "\n",
    "starting with the simplest case: a homogeneous medium with constant parameters."
   ]
  },
  {
   "cell_type": "markdown",
   "id": "80ffc196",
   "metadata": {
    "slideshow": {
     "slide_type": "subslide"
    }
   },
   "source": [
    "## The Full-Order Model"
   ]
  },
  {
   "cell_type": "markdown",
   "id": "c08b2ef8",
   "metadata": {
    "slideshow": {
     "slide_type": "fragment"
    }
   },
   "source": [
    "Using finite differences, we can approximate Eq. (6) as\n",
    "\n",
    "$$\n",
    "\\begin{split}\n",
    " \\frac{\\partial y_i}{\\partial t} \n",
    "  = & \\left ( \\frac{k_{i+1}(y_{i+1}(t)) - k_{i-1}(y_{i-1}(t))}{2\\Delta_x  \\rho_i c_{p,i}(y_i(t))}  \\right ) \n",
    "              \\left ( \\frac{y_{i+1}(t) - y_{i-1}(t)}{2\\Delta_x} \\right ) \\\\\n",
    "     &+ k_{i}(y_{i}(t)) \\left ( \\frac{y_{i+1}(t) - 2y_{i}(t) +y_{i-1}(t)}{\\Delta_x^2  \\rho_i c_{p,i}(y_i(t))} \\right ) \n",
    "      + \\frac{1}{\\rho_i c_{p,i}(y_i(t))} q_i'''\\, .\n",
    "\\end{split}\n",
    "\\tag{7}\n",
    "$$\n",
    "\n",
    "where, e.g., $y_i(t) = y(x_i, t)$.  "
   ]
  },
  {
   "cell_type": "markdown",
   "id": "fea6c9fa",
   "metadata": {
    "slideshow": {
     "slide_type": "subslide"
    }
   },
   "source": [
    "This leads to\n",
    "\n",
    "$$\n",
    "  \\frac{d}{dt} \n",
    "  \\begin{bmatrix}\n",
    "   y_0 \\\\\n",
    "   y_1 \\\\\n",
    "   y_2 \\\\\n",
    "   y_3 \\\\\n",
    "   \\vdots \\\\\n",
    "   y_n\n",
    "  \\end{bmatrix}\n",
    "  = \n",
    "  \\begin{bmatrix}\n",
    "    -1        & 1         &  0        & 0         & \\ldots \\\\\n",
    "    b_1 - a_1 & -2b_1     & b_1 + a_1 & 0         & \\\\\n",
    "    0         & b_2 - a_2 & -2b_2     & b_2 + a_2 & \\\\\n",
    "              &           & \\ddots    &           & \\\\\n",
    "              &           &           &           &  1\n",
    "  \\end{bmatrix}\n",
    "  \\begin{bmatrix}\n",
    "   y_0 \\\\\n",
    "   y_1 \\\\\n",
    "   y_2 \\\\\n",
    "   y_3 \\\\\n",
    "   \\vdots \\\\\n",
    "   y_n\n",
    "  \\end{bmatrix}\n",
    "  +\n",
    "   \\begin{bmatrix}\n",
    "   0 \\\\\n",
    "   s_1 \\\\\n",
    "   s_2 \\\\\n",
    "   s_3 \\\\\n",
    "   \\vdots \\\\\n",
    "   0\n",
    "  \\end{bmatrix}\n",
    "$$\n"
   ]
  },
  {
   "cell_type": "markdown",
   "id": "92e1ea4e",
   "metadata": {
    "slideshow": {
     "slide_type": "fragment"
    }
   },
   "source": [
    "where \n",
    "\n",
    "$$ \n",
    "  a_i = \\frac{k_{i+1}(y_{i+1}(t)) - k_{i-1}(y_{i-1}(t))}{2\\Delta_x  \\rho_i c_{p,i}(y_i(t))} \\, ,\n",
    "$$\n",
    "$$\n",
    "  b_i = \\frac{k_{i}}{\\Delta_x^2  \\rho_i c_{p,i}(y_i(t))} \\, ,\n",
    "  \\qquad \\text{and} \\qquad   s_i = \\frac{1}{\\rho_i c_{p,i}(y_i(t))} q_i''' \\, .\n",
    "$$"
   ]
  },
  {
   "cell_type": "markdown",
   "id": "521a6c16",
   "metadata": {
    "slideshow": {
     "slide_type": "subslide"
    }
   },
   "source": [
    "## The Full-Order Model: Example"
   ]
  },
  {
   "cell_type": "markdown",
   "id": "0634ecb4",
   "metadata": {
    "slideshow": {
     "slide_type": "fragment"
    }
   },
   "source": [
    "For a concrete example, assume that\n",
    "\n",
    "$$\n",
    "y'(0, t) = 0 \\, , \\quad y(1, t) = 0 \\, , \\quad \\text{and} \\quad \n",
    " y(x, 0) = \n",
    "\\begin{cases}\n",
    "  1 & 0 \\leq x \\leq 1/2 \\\\\n",
    "  0 & 1/2 < x \\leq 1 \\, .\n",
    "\\end{cases}\n",
    "$$\n",
    "\n",
    "and $k = 1$, $\\rho = 1$, $c_p = 1$, and $q''' = 1$.  We'll solve for $t \\in [0, 1]$."
   ]
  },
  {
   "cell_type": "code",
   "execution_count": 93,
   "id": "be5661a4",
   "metadata": {
    "slideshow": {
     "slide_type": "subslide"
    }
   },
   "outputs": [],
   "source": [
    "import numpy as np\n",
    "import matplotlib.pyplot as plt\n",
    "from transient_conduction import *\n",
    "w = 1.0  # wall width\n",
    "nx = 1001 # number of spatial points\n",
    "t = 10 - np.logspace(0, 1, 21)\n",
    "t=t[::-1]\n",
    "t = np.linspace(0, 10, 11)\n",
    "def ic(x):\n",
    "    v = x**0; v[x>0.5]=0.0\n",
    "    return v;\n",
    "k   = lambda x, T: 1.0*x**0 \n",
    "c_p = lambda x, T: 1*x**0\n",
    "rho = lambda x: 1*x**0\n",
    "q   = lambda x, t: 1*x**0"
   ]
  },
  {
   "cell_type": "code",
   "execution_count": 94,
   "id": "54fd9337",
   "metadata": {},
   "outputs": [
    {
     "data": {
      "text/plain": [
       "array([ 0.,  1.,  2.,  3.,  4.,  5.,  6.,  7.,  8.,  9., 10.])"
      ]
     },
     "execution_count": 94,
     "metadata": {},
     "output_type": "execute_result"
    }
   ],
   "source": [
    "t"
   ]
  },
  {
   "cell_type": "code",
   "execution_count": 95,
   "id": "d09ec04c",
   "metadata": {
    "slideshow": {
     "slide_type": "fragment"
    }
   },
   "outputs": [],
   "source": [
    "sol, x = solve(k, c_p, rho, q, ic, w=w, nx=nx, times=t)"
   ]
  },
  {
   "cell_type": "code",
   "execution_count": 96,
   "id": "374077d1",
   "metadata": {
    "slideshow": {
     "slide_type": "subslide"
    }
   },
   "outputs": [
    {
     "data": {
      "image/png": "[encoded data removed]",
      "text/plain": [
       "<Figure size 576x360 with 1 Axes>"
      ]
     },
     "metadata": {
      "needs_background": "light"
     },
     "output_type": "display_data"
    }
   ],
   "source": [
    "plt.figure(figsize=(8,5))\n",
    "for i in range(len(t)):\n",
    "    plt.plot(x, sol[:, i], color=plt.cm.copper((i/len(t)))); \n",
    "plt.xlabel(\"x\"); plt.ylabel(\"T(x)\");"
   ]
  },
  {
   "cell_type": "code",
   "execution_count": 4,
   "id": "9fa8258b",
   "metadata": {},
   "outputs": [
    {
     "data": {
      "text/plain": [
       "1.0"
      ]
     },
     "execution_count": 4,
     "metadata": {},
     "output_type": "execute_result"
    }
   ],
   "source": [
    "x[-1]"
   ]
  },
  {
   "cell_type": "code",
   "execution_count": null,
   "id": "0ab610d5",
   "metadata": {},
   "outputs": [],
   "source": []
  }
 ],
 "metadata": {
  "celltoolbar": "Slideshow",
  "kernelspec": {
   "display_name": "Python 3 (ipykernel)",
   "language": "python",
   "name": "python3"
  },
  "language_info": {
   "codemirror_mode": {
    "name": "ipython",
    "version": 3
   },
   "file_extension": ".py",
   "mimetype": "text/x-python",
   "name": "python",
   "nbconvert_exporter": "python",
   "pygments_lexer": "ipython3",
   "version": "3.9.7"
  },
  "rise": {
   "scroll": true
  }
 },
 "nbformat": 4,
 "nbformat_minor": 5
}
